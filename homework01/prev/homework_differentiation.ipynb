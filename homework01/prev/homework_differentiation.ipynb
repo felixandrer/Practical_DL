{
 "cells": [
  {
   "cell_type": "markdown",
   "metadata": {},
   "source": [
    "# Homework 1: Differentiation"
   ]
  },
  {
   "cell_type": "markdown",
   "metadata": {},
   "source": [
    "Since it easy to google every task please please please try to undestand what's going on. The \"just answer\" thing will be not counted, make sure to present derivation of your solution. It is absolutely OK if you found an answer on web then just exercise in $\\LaTeX$ copying it into here."
   ]
  },
  {
   "cell_type": "markdown",
   "metadata": {},
   "source": [
    "Useful links: \n",
    "[1](http://www.machinelearning.ru/wiki/images/2/2a/Matrix-Gauss.pdf)\n",
    "[2](http://www.atmos.washington.edu/~dennis/MatrixCalculus.pdf)\n",
    "[3](http://cal.cs.illinois.edu/~johannes/research/matrix%20calculus.pdf)\n",
    "[4](http://research.microsoft.com/en-us/um/people/cmbishop/prml/index.htm)"
   ]
  },
  {
   "cell_type": "markdown",
   "metadata": {},
   "source": [
    "## ex. 1"
   ]
  },
  {
   "cell_type": "markdown",
   "metadata": {},
   "source": [
    "$$  \n",
    "y = x^Tx,  \\quad x \\in \\mathbb{R}^N \n",
    "$$"
   ]
  },
  {
   "cell_type": "markdown",
   "metadata": {},
   "source": [
    "$$\n",
    "\\frac{dy}{dx} = \n",
    "$$ "
   ]
  },
  {
   "cell_type": "code",
   "execution_count": 24,
   "metadata": {
    "scrolled": true
   },
   "outputs": [
    {
     "data": {
      "text/latex": [
       "Lets $x = (x_i)$ $1\\leq i \\leq N$.  \n",
       "\n",
       "Then $x^Tx = \\sum_{i} x_i^2$.\n",
       "\n",
       "$$\\frac{dy}{dx_i} = 2x_i$$\n",
       "$$\\frac{dy}{dx} = 2x$$"
      ],
      "text/plain": [
       "<IPython.core.display.Latex object>"
      ]
     },
     "metadata": {},
     "output_type": "display_data"
    }
   ],
   "source": [
    "%%latex\n",
    "Lets $x = (x_i)$ $1\\leq i \\leq N$.  \n",
    "\n",
    "Then $x^Tx = \\sum_{i} x_i^2$.\n",
    "\n",
    "$$\\frac{dy}{dx_i} = 2x_i$$\n",
    "$$\\frac{dy}{dx} = 2x$$"
   ]
  },
  {
   "cell_type": "markdown",
   "metadata": {},
   "source": [
    "## ex. 2"
   ]
  },
  {
   "cell_type": "markdown",
   "metadata": {},
   "source": [
    "$$ y = tr(AB) \\quad A,B \\in \\mathbb{R}^{N \\times N} $$ "
   ]
  },
  {
   "cell_type": "markdown",
   "metadata": {},
   "source": [
    "$$\n",
    "\\frac{dy}{dA} =\n",
    "$$"
   ]
  },
  {
   "cell_type": "code",
   "execution_count": 34,
   "metadata": {},
   "outputs": [
    {
     "data": {
      "text/latex": [
       "Lets $C = AB$.\n",
       "Then $c_{ii} = \\sum\\limits_{1\\leq k \\leq N}a_{ik}b_{ki}$\n",
       "$$$$\n",
       "$$tr(AB)=\\sum\\limits_{1\\leq i \\leq N}c_{ii}=\\sum\\limits_{1\\leq i \\leq N}\\sum\\limits_{1\\leq k \\leq N}a_{ik}b_{ki}$$\n",
       "$$$$\n",
       "$$\\frac{dy}{da_{ts}} = b_{ts}$$\n",
       "$$$$\n",
       "$$\\frac{dy}{dA} = B^T$$"
      ],
      "text/plain": [
       "<IPython.core.display.Latex object>"
      ]
     },
     "metadata": {},
     "output_type": "display_data"
    }
   ],
   "source": [
    "%%latex\n",
    "Lets $C = AB$.\n",
    "Then $c_{ii} = \\sum\\limits_{1\\leq k \\leq N}a_{ik}b_{ki}$\n",
    "$$$$\n",
    "$$tr(AB)=\\sum\\limits_{1\\leq i \\leq N}c_{ii}=\\sum\\limits_{1\\leq i \\leq N}\\sum\\limits_{1\\leq k \\leq N}a_{ik}b_{ki}$$\n",
    "$$$$\n",
    "$$\\frac{dy}{da_{ts}} = b_{ts}$$\n",
    "$$$$\n",
    "$$\\frac{dy}{dA} = B^T$$"
   ]
  },
  {
   "cell_type": "markdown",
   "metadata": {},
   "source": [
    "## ex. 3"
   ]
  },
  {
   "cell_type": "markdown",
   "metadata": {},
   "source": [
    "$$  \n",
    "y = x^TAc , \\quad A\\in \\mathbb{R}^{N \\times N}, x\\in \\mathbb{R}^{N}, c\\in \\mathbb{R}^{N} \n",
    "$$"
   ]
  },
  {
   "cell_type": "markdown",
   "metadata": {},
   "source": [
    "$$\n",
    "\\frac{dy}{dx} =\n",
    "$$"
   ]
  },
  {
   "cell_type": "markdown",
   "metadata": {},
   "source": [
    "$$\n",
    "\\frac{dy}{dA} =\n",
    "$$ "
   ]
  },
  {
   "cell_type": "markdown",
   "metadata": {},
   "source": [
    "Hint for the latter (one of the ways): use *ex. 2* result and the fact \n",
    "$$\n",
    "tr(ABC) = tr (CAB)\n",
    "$$"
   ]
  },
  {
   "cell_type": "code",
   "execution_count": 15,
   "metadata": {},
   "outputs": [
    {
     "data": {
      "text/latex": [
       "Lets $b = Ac$, $b\\in \\mathbb{R}^{N} $.\n",
       "Then $y = x^Tb = \\sum\\limits_{1\\leq i \\leq N}x_ib_i$\n",
       "$$$$\n",
       "$$\\frac{dy}{dx_i} = b_i$$\n",
       "$$$$\n",
       "$$\\frac{dy}{dx} = b = Ac$$\n",
       "$$$$\n",
       "Next, $y = x^TAc = \\sum\\limits_{1\\leq i \\leq N}x_i(Ac)_i = \\sum\\limits_{1\\leq i \\leq N}x_i\\sum\\limits_{1\\leq j \\leq N}a_{ij}c_j$\n",
       "$$$$\n",
       "$$\\frac{dy}{da_{st}} = x_sc_t$$\n",
       "$$\\frac{dy}{dA} = xc^T$$"
      ],
      "text/plain": [
       "<IPython.core.display.Latex object>"
      ]
     },
     "metadata": {},
     "output_type": "display_data"
    }
   ],
   "source": [
    "%%latex\n",
    "Lets $b = Ac$, $b\\in \\mathbb{R}^{N} $.\n",
    "Then $y = x^Tb = \\sum\\limits_{1\\leq i \\leq N}x_ib_i$\n",
    "$$$$\n",
    "$$\\frac{dy}{dx_i} = b_i$$\n",
    "$$$$\n",
    "$$\\frac{dy}{dx} = b = Ac$$\n",
    "$$$$\n",
    "Next, $y = x^TAc = \\sum\\limits_{1\\leq i \\leq N}x_i(Ac)_i = \\sum\\limits_{1\\leq i \\leq N}x_i\\sum\\limits_{1\\leq j \\leq N}a_{ij}c_j$\n",
    "$$$$\n",
    "$$\\frac{dy}{da_{st}} = x_sc_t$$\n",
    "$$\\frac{dy}{dA} = xc^T$$"
   ]
  },
  {
   "cell_type": "markdown",
   "metadata": {},
   "source": [
    "## ex. 4"
   ]
  },
  {
   "cell_type": "markdown",
   "metadata": {},
   "source": [
    "Classic matrix factorization example. Given matrix $X$ you need to find $A$, $S$ to approximate $X$. This can be done by simple gradient descent iteratively alternating $A$ and $S$ updates.\n",
    "$$\n",
    "J = || X - AS ||_F^2  , \\quad A\\in \\mathbb{R}^{N \\times R} , \\quad S\\in \\mathbb{R}^{R \\times M}\n",
    "$$\n",
    "$$\n",
    "\\frac{dJ}{dS} = ? \n",
    "$$ "
   ]
  },
  {
   "cell_type": "markdown",
   "metadata": {},
   "source": [
    "### First approach\n",
    "Using ex.2 and the fact:\n",
    "$$\n",
    "|| X ||_F^2 = tr(XX^T) \n",
    "$$ \n",
    "it is easy to derive gradients (you can find it in one of the refs). "
   ]
  },
  {
   "cell_type": "markdown",
   "metadata": {
    "collapsed": true
   },
   "source": [
    "### Second approach\n",
    "You can use *slightly different techniques* if they suits you. Take a look at this derivation:\n",
    "<img src=\"grad.png\">\n",
    "(excerpt from [Handbook of blind source separation, Jutten, page 517](https://books.google.ru/books?id=PTbj03bYH6kC&printsec=frontcover&dq=Handbook+of+Blind+Source+Separation&hl=en&sa=X&ved=0ahUKEwi-q_apiJDLAhULvXIKHVXJDWcQ6AEIHDAA#v=onepage&q=Handbook%20of%20Blind%20Source%20Separation&f=false), open for better picture)."
   ]
  },
  {
   "cell_type": "markdown",
   "metadata": {
    "collapsed": true
   },
   "source": [
    "### Third approach\n",
    "And finally we can use chain rule! **YOUR TURN** to do it.\n",
    "let $ F = AS $ \n",
    "\n",
    "**Find**\n",
    "$$\n",
    "\\frac{dJ}{dF} =  \n",
    "$$ \n",
    "and \n",
    "$$\n",
    "\\frac{dF}{dS} =  \n",
    "$$ \n",
    "(the shape should be $ NM \\times RM )$.\n",
    "\n",
    "Now it is easy do get desired gradients:\n",
    "$$\n",
    "\\frac{dJ}{dS} =  \n",
    "$$ "
   ]
  },
  {
   "cell_type": "code",
   "execution_count": null,
   "metadata": {
    "collapsed": true
   },
   "outputs": [],
   "source": []
  }
 ],
 "metadata": {
  "kernelspec": {
   "display_name": "Python [default]",
   "language": "python",
   "name": "python3"
  },
  "language_info": {
   "codemirror_mode": {
    "name": "ipython",
    "version": 3
   },
   "file_extension": ".py",
   "mimetype": "text/x-python",
   "name": "python",
   "nbconvert_exporter": "python",
   "pygments_lexer": "ipython3",
   "version": "3.6.8"
  }
 },
 "nbformat": 4,
 "nbformat_minor": 1
}
